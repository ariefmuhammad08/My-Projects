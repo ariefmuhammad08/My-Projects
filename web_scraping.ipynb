{
  "nbformat": 4,
  "nbformat_minor": 0,
  "metadata": {
    "colab": {
      "provenance": [],
      "toc_visible": true
    },
    "kernelspec": {
      "name": "python3",
      "display_name": "Python 3"
    },
    "language_info": {
      "name": "python"
    }
  },
  "cells": [
    {
      "cell_type": "code",
      "execution_count": 58,
      "metadata": {
        "id": "JV8oR9Z94Tgp"
      },
      "outputs": [],
      "source": [
        "url = 'https://sport.detik.com/indeks'"
      ]
    },
    {
      "cell_type": "code",
      "source": [
        "import requests\n",
        "from bs4 import BeautifulSoup"
      ],
      "metadata": {
        "id": "7kCOjtho5b_u"
      },
      "execution_count": 59,
      "outputs": []
    },
    {
      "cell_type": "code",
      "source": [
        "# mendapatkan konten dari url\n",
        "response = requests.get(url)"
      ],
      "metadata": {
        "id": "37gb4EpU5mO8"
      },
      "execution_count": 60,
      "outputs": []
    },
    {
      "cell_type": "code",
      "source": [
        "# cek koneksi\n",
        "response.status_code"
      ],
      "metadata": {
        "colab": {
          "base_uri": "https://localhost:8080/"
        },
        "id": "tyD1TlON5unl",
        "outputId": "ab25b3c9-147d-47f5-d96f-eb92d7647401"
      },
      "execution_count": 33,
      "outputs": [
        {
          "output_type": "execute_result",
          "data": {
            "text/plain": [
              "200"
            ]
          },
          "metadata": {},
          "execution_count": 33
        }
      ]
    },
    {
      "cell_type": "code",
      "source": [
        "# show only 200 char\n",
        "response.content[:200]"
      ],
      "metadata": {
        "colab": {
          "base_uri": "https://localhost:8080/"
        },
        "id": "TOxHdyOp562V",
        "outputId": "335767cd-8ef9-4ab3-bb1c-451732946d77"
      },
      "execution_count": 34,
      "outputs": [
        {
          "output_type": "execute_result",
          "data": {
            "text/plain": [
              "b'<!DOCTYPE html>\\n<html lang=\"id-ID\">\\n    <head>\\n        <link rel=\"dns-prefetch\" href=\"https://cdn.detik.net.id\"/><link rel=\"dns-prefetch\" href=\"https://akcdn.detik.net.id\"/><link rel=\"dns-prefetch\" hr'"
            ]
          },
          "metadata": {},
          "execution_count": 34
        }
      ]
    },
    {
      "cell_type": "code",
      "source": [
        "# buat objek beatifulsoup\n",
        "page = BeautifulSoup(response.content, 'html.parser')"
      ],
      "metadata": {
        "id": "P4P6cZ5P6MZk"
      },
      "execution_count": 61,
      "outputs": []
    },
    {
      "cell_type": "code",
      "source": [
        "# ambil semua artikel\n",
        "articles = page.find_all('article')"
      ],
      "metadata": {
        "id": "7zcBMFOQ7Jao"
      },
      "execution_count": 36,
      "outputs": []
    },
    {
      "cell_type": "code",
      "source": [
        "# ambil judul\n",
        "articles[0].find('h3', class_= 'media__title').a.get_text()"
      ],
      "metadata": {
        "colab": {
          "base_uri": "https://localhost:8080/",
          "height": 35
        },
        "id": "HNR8XtWz7iFj",
        "outputId": "e7ac7454-ff3e-4b56-a481-4a950187debf"
      },
      "execution_count": 37,
      "outputs": [
        {
          "output_type": "execute_result",
          "data": {
            "text/plain": [
              "'Bali United Juara IFel 2022'"
            ],
            "application/vnd.google.colaboratory.intrinsic+json": {
              "type": "string"
            }
          },
          "metadata": {},
          "execution_count": 37
        }
      ]
    },
    {
      "cell_type": "code",
      "source": [
        "# ekstrak data\n",
        "category = page.find('div', class_= 'indeks-menu__title').get_text()\n",
        "for article in articles :\n",
        "  title = article.find('h3', class_= 'media__title').a.get_text()\n",
        "  url = article.find('h3', class_= 'media__title').a.get('href')\n",
        "  post_dt = article.find('div', class_= 'media__date').span.get('title')\n",
        "  \n",
        "  data = {\n",
        "      'title': title,\n",
        "      'url': url,\n",
        "      'post_dt': post_dt,\n",
        "      'category': category\n",
        "  }\n",
        "  \n",
        "  print(data)"
      ],
      "metadata": {
        "colab": {
          "base_uri": "https://localhost:8080/"
        },
        "id": "n8s5U4D68bWV",
        "outputId": "33443af0-1cf4-4ca8-b842-7dea0eaf9ef2"
      },
      "execution_count": 16,
      "outputs": [
        {
          "output_type": "stream",
          "name": "stdout",
          "text": [
            "{'title': 'Bali United Juara IFel 2022', 'url': 'https://sport.detik.com/sport-lain/d-6432037/bali-united-juara-ifel-2022', 'post_dt': 'Selasa, 29 Nov 2022 03:14 WIB', 'category': 'Sport'}\n",
            "{'title': 'Segera Hadir Ajang Olahraga Lari Rekreasi', 'url': 'https://sport.detik.com/sport-lain/d-6432018/segera-hadir-ajang-olahraga-lari-rekreasi', 'post_dt': 'Selasa, 29 Nov 2022 01:45 WIB', 'category': 'Sport'}\n",
            "{'title': 'Alpha Rules Dominasi Edutown Drift Prix, Deddy Corbuzier: Amazing!', 'url': 'https://sport.detik.com/sport-lain/d-6431942/alpha-rules-dominasi-edutown-drift-prix-deddy-corbuzier-amazing', 'post_dt': 'Selasa, 29 Nov 2022 00:35 WIB', 'category': 'Sport'}\n",
            "{'title': 'Alpha Rules Drift Team Kuasai Dua Putaran Edutown Drift Prix 2022', 'url': 'https://sport.detik.com/sport-lain/d-6431933/alpha-rules-drift-team-kuasai-dua-putaran-edutown-drift-prix-2022', 'post_dt': 'Senin, 28 Nov 2022 23:35 WIB', 'category': 'Sport'}\n",
            "{'title': 'Apri/Fadia Masuk, Wakil Indonesia di Semua Sektor BWF World Tour Finals 2022', 'url': 'https://sport.detik.com/raket/d-6431917/aprifadia-masuk-wakil-indonesia-di-semua-sektor-bwf-world-tour-finals-2022', 'post_dt': 'Senin, 28 Nov 2022 23:05 WIB', 'category': 'Sport'}\n",
            "{'title': 'Kejuaraan Atletik Pelajar di Jawa Barat Diharap Hadirkan Bibit', 'url': 'https://sport.detik.com/sport-lain/d-6431944/kejuaraan-atletik-pelajar-di-jawa-barat-diharap-hadirkan-bibit', 'post_dt': 'Senin, 28 Nov 2022 22:13 WIB', 'category': 'Sport'}\n",
            "{'title': 'Lima Wakil Indonesia Masuk Nominasi Pemain Terbaik BWF 2022', 'url': 'https://sport.detik.com/raket/d-6431710/lima-wakil-indonesia-masuk-nominasi-pemain-terbaik-bwf-2022', 'post_dt': 'Senin, 28 Nov 2022 20:07 WIB', 'category': 'Sport'}\n",
            "{'title': 'Amir Yanto Akhirnya Daftar Jadi Calon Ketua Pengurus Anggar', 'url': 'https://sport.detik.com/sport-lain/d-6431753/amir-yanto-akhirnya-daftar-jadi-calon-ketua-pengurus-anggar', 'post_dt': 'Senin, 28 Nov 2022 19:27 WIB', 'category': 'Sport'}\n",
            "{'title': 'Turnamen Basket 3x3 Kelompok Umur di Jakarta Tuntas', 'url': 'https://sport.detik.com/basket/d-6431719/turnamen-basket-3x3-kelompok-umur-di-jakarta-tuntas', 'post_dt': 'Senin, 28 Nov 2022 18:48 WIB', 'category': 'Sport'}\n",
            "{'title': '7 Desember, Tenggat Waktu Tim-tim Proliga Daftarkan Pemainnya', 'url': 'https://sport.detik.com/sport-lain/d-6431363/7-desember-tenggat-waktu-tim-tim-proliga-daftarkan-pemainnya', 'post_dt': 'Senin, 28 Nov 2022 17:50 WIB', 'category': 'Sport'}\n",
            "{'title': 'Cerita Atlet Papua Tutup Usia usai Rebut Perunggu ASEAN Para Games 2022', 'url': 'https://sport.detik.com/sport-lain/d-6430981/cerita-atlet-papua-tutup-usia-usai-rebut-perunggu-asean-para-games-2022', 'post_dt': 'Senin, 28 Nov 2022 15:35 WIB', 'category': 'Sport'}\n",
            "{'title': 'Asyik! Atlet ASEAN Para Games 2022 Terima Bonus dari Presiden', 'url': 'https://sport.detik.com/fotosport/d-6430616/asyik-atlet-asean-para-games-2022-terima-bonus-dari-presiden', 'post_dt': 'Senin, 28 Nov 2022 13:12 WIB', 'category': 'Sport'}\n",
            "{'title': 'Atlet ASEAN Paragames 2022 Dapat Bonus Rp 309 M dari Jokowi', 'url': 'https://sport.detik.com/detiktv/d-6430344/atlet-asean-paragames-2022-dapat-bonus-rp-309-m-dari-jokowi', 'post_dt': 'Senin, 28 Nov 2022 11:29 WIB', 'category': 'Sport'}\n",
            "{'title': 'Jokowi Beri Bonus Peraih Medali ASEAN Para Games 2022 Total Rp 309 M', 'url': 'https://sport.detik.com/sport-lain/d-6430266/jokowi-beri-bonus-peraih-medali-asean-para-games-2022-total-rp-309-m', 'post_dt': 'Senin, 28 Nov 2022 11:10 WIB', 'category': 'Sport'}\n",
            "{'title': 'Turnamen Golf Piala Unair 2022 Digelar di Jakarta', 'url': 'https://sport.detik.com/fotosport/d-6430595/turnamen-golf-piala-unair-2022-digelar-di-jakarta', 'post_dt': 'Senin, 28 Nov 2022 10:03 WIB', 'category': 'Sport'}\n",
            "{'title': 'Usai Raih Medali Perak, Euclia Kirim Bantuan ke Korban Gempa Cianjur', 'url': 'https://sport.detik.com/sport-lain/d-6429870/usai-raih-medali-perak-euclia-kirim-bantuan-ke-korban-gempa-cianjur', 'post_dt': 'Senin, 28 Nov 2022 02:27 WIB', 'category': 'Sport'}\n",
            "{'title': 'Juara Asian Para Games 2018 Beri Tips ke Pemula Pilih Sepeda', 'url': 'https://sport.detik.com/sport-lain/d-6429834/juara-asian-para-games-2018-beri-tips-ke-pemula-pilih-sepeda', 'post_dt': 'Minggu, 27 Nov 2022 22:39 WIB', 'category': 'Sport'}\n",
            "{'title': 'Mencari Bibit Muda Atlet Sepeda Lewat Lomba Push Bike', 'url': 'https://sport.detik.com/fotosport/d-6429335/mencari-bibit-muda-atlet-sepeda-lewat-lomba-push-bike', 'post_dt': 'Minggu, 27 Nov 2022 20:00 WIB', 'category': 'Sport'}\n",
            "{'title': 'Sirkuit Sewan Dinilai Beri Manfaat Ekonomi-Hiburan bagi Masyarakat', 'url': 'https://sport.detik.com/sport-lain/d-6429266/sirkuit-sewan-dinilai-beri-manfaat-ekonomi-hiburan-bagi-masyarakat', 'post_dt': 'Minggu, 27 Nov 2022 15:29 WIB', 'category': 'Sport'}\n",
            "{'title': '8.000 Orang Ramaikan Pertamina Eco RunFest 2022', 'url': 'https://sport.detik.com/sport-lain/d-6428855/8000-orang-ramaikan-pertamina-eco-runfest-2022', 'post_dt': 'Minggu, 27 Nov 2022 10:20 WIB', 'category': 'Sport'}\n"
          ]
        }
      ]
    },
    {
      "cell_type": "code",
      "source": [
        "# ke next page\n",
        "next_page_url = page.find_all('a', class_= 'pagination__item')[-1].get('href')\n",
        "response = requests.get(next_page_url)\n",
        "page_2 = BeautifulSoup(response.content, 'html.parser')"
      ],
      "metadata": {
        "id": "ai_RPBf8A4QY"
      },
      "execution_count": 17,
      "outputs": []
    },
    {
      "cell_type": "code",
      "source": [
        "articles = page_2.find_all('article')"
      ],
      "metadata": {
        "id": "PxsUSrZLDZvl"
      },
      "execution_count": 18,
      "outputs": []
    },
    {
      "cell_type": "code",
      "source": [
        "category = page_2.find('div', class_= 'indeks-menu__title').get_text()\n",
        "for article in articles :\n",
        "  title = article.find('h3', class_= 'media__title').a.get_text()\n",
        "  url = article.find('h3', class_= 'media__title').a.get('href')\n",
        "  post_dt = article.find('div', class_= 'media__date').span.get('title')\n",
        "  \n",
        "  data = {\n",
        "      'title': title,\n",
        "      'url': url,\n",
        "      'post_dt': post_dt,\n",
        "      'category': category\n",
        "  }\n",
        "  \n",
        "  print(data)"
      ],
      "metadata": {
        "colab": {
          "base_uri": "https://localhost:8080/"
        },
        "id": "v3jh-dtNC8ox",
        "outputId": "e7bf4819-ed16-41ee-b685-5b04f389cfa4"
      },
      "execution_count": 19,
      "outputs": [
        {
          "output_type": "stream",
          "name": "stdout",
          "text": [
            "{'title': 'Pebalap Alpha Rules: Semoga Kami Tampil Oke di Edutown Drift Prix', 'url': 'https://sport.detik.com/sport-lain/d-6428713/pebalap-alpha-rules-semoga-kami-tampil-oke-di-edutown-drift-prix', 'post_dt': 'Minggu, 27 Nov 2022 07:55 WIB', 'category': 'Sport'}\n",
            "{'title': 'Menjaring Bibit Atlet Gymnastic', 'url': 'https://sport.detik.com/fotosport/d-6427517/menjaring-bibit-atlet-gymnastic', 'post_dt': 'Minggu, 27 Nov 2022 06:51 WIB', 'category': 'Sport'}\n",
            "{'title': 'Saat Journalist MTB Ikut Sepeda Santai', 'url': 'https://sport.detik.com/fotosport/d-6428773/saat-journalist-mtb-ikut-sepeda-santai', 'post_dt': 'Minggu, 27 Nov 2022 05:29 WIB', 'category': 'Sport'}\n",
            "{'title': 'Nomor Sprint Diminati Para Pelajar di Kejuaraan Atletik Jawa Barat', 'url': 'https://sport.detik.com/sport-lain/d-6428627/nomor-sprint-diminati-para-pelajar-di-kejuaraan-atletik-jawa-barat', 'post_dt': 'Minggu, 27 Nov 2022 03:00 WIB', 'category': 'Sport'}\n",
            "{'title': 'Lagi On Fire, Alpha Rules Team Pede Hadapi Edutown Drift Prix', 'url': 'https://sport.detik.com/sport-lain/d-6428551/lagi-on-fire-alpha-rules-team-pede-hadapi-edutown-drift-prix', 'post_dt': 'Sabtu, 26 Nov 2022 23:20 WIB', 'category': 'Sport'}\n",
            "{'title': 'Kejuaraan Dunia Wushu Junior 2022 di BSD, Atlet 61 Negara Ikut Serta', 'url': 'https://sport.detik.com/sport-lain/d-6428346/kejuaraan-dunia-wushu-junior-2022-di-bsd-atlet-61-negara-ikut-serta', 'post_dt': 'Sabtu, 26 Nov 2022 20:18 WIB', 'category': 'Sport'}\n",
            "{'title': 'Puluhan Pebalap Meriahkan Kejuaraan Grasstrack Motocross di Tangerang', 'url': 'https://sport.detik.com/sport-lain/d-6428273/puluhan-pebalap-meriahkan-kejuaraan-grasstrack-motocross-di-tangerang', 'post_dt': 'Sabtu, 26 Nov 2022 19:21 WIB', 'category': 'Sport'}\n",
            "{'title': 'BWF World Tour Finals 2022: Ini Target Gregoria dengan Persiapan Mepet', 'url': 'https://sport.detik.com/raket/d-6427993/bwf-world-tour-finals-2022-ini-target-gregoria-dengan-persiapan-mepet', 'post_dt': 'Sabtu, 26 Nov 2022 16:45 WIB', 'category': 'Sport'}\n",
            "{'title': 'Daftar 6 Wakil Indonesia di BWF World Tour Finals 2022', 'url': 'https://sport.detik.com/raket/d-6427822/daftar-6-wakil-indonesia-di-bwf-world-tour-finals-2022', 'post_dt': 'Sabtu, 26 Nov 2022 13:43 WIB', 'category': 'Sport'}\n",
            "{'title': 'Gregoria Mariska Dipastikan Main di BWF World Tour Finals 2022', 'url': 'https://sport.detik.com/raket/d-6427817/gregoria-mariska-dipastikan-main-di-bwf-world-tour-finals-2022', 'post_dt': 'Sabtu, 26 Nov 2022 12:40 WIB', 'category': 'Sport'}\n",
            "{'title': 'Seri Pamungkas 76 Indonesian Downhill Akan Digelar di Kudus', 'url': 'https://sport.detik.com/sport-lain/d-6427350/seri-pamungkas-76-indonesian-downhill-akan-digelar-di-kudus', 'post_dt': 'Sabtu, 26 Nov 2022 06:09 WIB', 'category': 'Sport'}\n",
            "{'title': 'Trial Game Asphalt (TGA): Rider Debutan Dinanti di Mijen', 'url': 'https://sport.detik.com/sport-lain/d-6427269/trial-game-asphalt-tga-rider-debutan-dinanti-di-mijen', 'post_dt': 'Sabtu, 26 Nov 2022 01:47 WIB', 'category': 'Sport'}\n",
            "{'title': 'Eko Yuli Menuju Kejuaraan Dunia Angkat Besi 2022', 'url': 'https://sport.detik.com/sport-lain/d-6424984/eko-yuli-menuju-kejuaraan-dunia-angkat-besi-2022', 'post_dt': 'Kamis, 24 Nov 2022 21:50 WIB', 'category': 'Sport'}\n",
            "{'title': 'Eko Yuli Pilih Nonton Piala Dunia di Rumah Ketimbang Nobar, karena...', 'url': 'https://sport.detik.com/sport-lain/d-6424970/eko-yuli-pilih-nonton-piala-dunia-di-rumah-ketimbang-nobar-karena', 'post_dt': 'Kamis, 24 Nov 2022 20:30 WIB', 'category': 'Sport'}\n",
            "{'title': 'PP Pelti Gelar Turnamen Tenis Penutup Tahun, Mulai Pekan Depan', 'url': 'https://sport.detik.com/raket/d-6424771/pp-pelti-gelar-turnamen-tenis-penutup-tahun-mulai-pekan-depan', 'post_dt': 'Kamis, 24 Nov 2022 18:10 WIB', 'category': 'Sport'}\n",
            "{'title': 'Gairahkan Olahraga RI, Mansion Sports Akuisisi Box Sports Center', 'url': 'https://sport.detik.com/sport-lain/d-6424365/gairahkan-olahraga-ri-mansion-sports-akuisisi-box-sports-center', 'post_dt': 'Kamis, 24 Nov 2022 15:40 WIB', 'category': 'Sport'}\n",
            "{'title': 'Dua Tim Ini Jadi Favorit Eko Yuli di Piala Dunia 2022', 'url': 'https://sport.detik.com/sport-lain/d-6424247/dua-tim-ini-jadi-favorit-eko-yuli-di-piala-dunia-2022', 'post_dt': 'Kamis, 24 Nov 2022 14:55 WIB', 'category': 'Sport'}\n",
            "{'title': 'Tim Hoki Batavia Demons Dulang Prestasi di Kancah Internasional', 'url': 'https://sport.detik.com/sport-lain/d-6423345/tim-hoki-batavia-demons-dulang-prestasi-di-kancah-internasional', 'post_dt': 'Kamis, 24 Nov 2022 03:17 WIB', 'category': 'Sport'}\n",
            "{'title': 'Menpora: Semoga Kejuaraan Dunia Wushu Junior 2022 Berjalan Lancar', 'url': 'https://sport.detik.com/sport-lain/d-6423228/menpora-semoga-kejuaraan-dunia-wushu-junior-2022-berjalan-lancar', 'post_dt': 'Rabu, 23 Nov 2022 23:25 WIB', 'category': 'Sport'}\n",
            "{'title': 'Perkenalkan Louis Mora, Bocah 9 Tahun Jago Jiu-Jitsu', 'url': 'https://sport.detik.com/sport-lain/d-6423218/perkenalkan-louis-mora-bocah-9-tahun-jago-jiu-jitsu', 'post_dt': 'Rabu, 23 Nov 2022 22:55 WIB', 'category': 'Sport'}\n"
          ]
        }
      ]
    },
    {
      "cell_type": "markdown",
      "source": [
        "# Automate Scraping"
      ],
      "metadata": {
        "id": "t56N4gitD9dU"
      }
    },
    {
      "cell_type": "code",
      "source": [
        "import requests\n",
        "import json\n",
        "import time\n",
        "from bs4 import BeautifulSoup"
      ],
      "metadata": {
        "id": "FDx8kppnDv9q"
      },
      "execution_count": 53,
      "outputs": []
    },
    {
      "cell_type": "code",
      "source": [
        "url = 'https://sport.detik.com/indeks'"
      ],
      "metadata": {
        "id": "ijAsGTuk9zvs"
      },
      "execution_count": 54,
      "outputs": []
    },
    {
      "cell_type": "code",
      "source": [
        "response = requests.get(url)\n",
        "page = BeautifulSoup(response.content, 'html.parser')\n",
        "\n",
        "all_result = []\n",
        "counter = 0\n",
        "max_page = 5\n",
        "\n",
        "while (True):\n",
        "  category = page.find('div', class_= 'indeks-menu__title').get_text()\n",
        "  articles = page.find_all('article')\n",
        "  for article in articles :\n",
        "    title = article.find('h3', class_= 'media__title').a.get_text()\n",
        "    url = article.find('h3', class_= 'media__title').a.get('href')\n",
        "    post_dt = article.find('div', class_= 'media__date').span.get('title')\n",
        "  \n",
        "    data = {\n",
        "      'title': title,\n",
        "      'url': url,\n",
        "      'post_dt': post_dt,\n",
        "      'category': category\n",
        "    }\n",
        "    all_result.append(data)\n",
        "\n",
        "    # tulis data ke json\n",
        "    with open ('result.json', 'a+') as file:\n",
        "      file.write(json.dumps(data))\n",
        "      file.write('\\n')\n",
        "\n",
        "  counter += 1\n",
        "  if (counter == max_page):\n",
        "    break\n",
        "\n",
        "  # ke page selanjutnya\n",
        "  time.sleep(3)\n",
        "  next_page_url = page.find_all('a', class_= 'pagination__item')[-1].get('href')\n",
        "  response = requests.get(next_page_url)\n",
        "  page = BeautifulSoup(response.content, 'html.parser')"
      ],
      "metadata": {
        "id": "QGE5E4UlEAUp"
      },
      "execution_count": 55,
      "outputs": []
    },
    {
      "cell_type": "code",
      "source": [
        "len(all_result)"
      ],
      "metadata": {
        "colab": {
          "base_uri": "https://localhost:8080/"
        },
        "id": "AC3PIszO-kLK",
        "outputId": "30cd190d-c54d-4e25-fdb6-6f48e42482a3"
      },
      "execution_count": 56,
      "outputs": [
        {
          "output_type": "execute_result",
          "data": {
            "text/plain": [
              "100"
            ]
          },
          "metadata": {},
          "execution_count": 56
        }
      ]
    }
  ]
}