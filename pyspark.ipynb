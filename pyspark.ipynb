{
  "nbformat": 4,
  "nbformat_minor": 0,
  "metadata": {
    "colab": {
      "provenance": []
    },
    "kernelspec": {
      "name": "python3",
      "display_name": "Python 3"
    },
    "language_info": {
      "name": "python"
    }
  },
  "cells": [
    {
      "cell_type": "markdown",
      "source": [
        "Install Pyspark"
      ],
      "metadata": {
        "id": "XpXnEugyTI_s"
      }
    },
    {
      "cell_type": "code",
      "source": [
        "!apt-get install openjdk-8-jdk-headless -qq > /dev/null\n",
        "!wget -q https://archive.apache.org/dist/spark/spark-3.3.1/spark-3.3.1-bin-hadoop3.tgz\n",
        "!tar xf spark-3.3.1-bin-hadoop3.tgz\n",
        "!pip install -q findspark"
      ],
      "metadata": {
        "id": "4HlFiP2aYdRY"
      },
      "execution_count": 1,
      "outputs": []
    },
    {
      "cell_type": "markdown",
      "source": [
        "Set Environment"
      ],
      "metadata": {
        "id": "tKu2ngd7Y86_"
      }
    },
    {
      "cell_type": "code",
      "source": [
        "import os\n",
        "os.environ[\"JAVA_HOME\"] = \"/usr/lib/jvm/java-8-openjdk-amd64\"\n",
        "os.environ[\"SPARK_HOME\"] = \"/content/spark-3.3.1-bin-hadoop3\""
      ],
      "metadata": {
        "id": "xaditA5TZE_v"
      },
      "execution_count": 2,
      "outputs": []
    },
    {
      "cell_type": "markdown",
      "source": [
        "Import Pyspark"
      ],
      "metadata": {
        "id": "SsBzQFgI4DON"
      }
    },
    {
      "cell_type": "code",
      "source": [
        "import findspark\n",
        "findspark.init()\n",
        "from pyspark.sql import SparkSession\n",
        "from pyspark.sql.functions import *\n",
        "from pyspark.sql.types import *"
      ],
      "metadata": {
        "id": "E0lDI6hA4HxF"
      },
      "execution_count": 3,
      "outputs": []
    },
    {
      "cell_type": "markdown",
      "source": [
        "Upload Dataset"
      ],
      "metadata": {
        "id": "yCkKNdri4aW6"
      }
    },
    {
      "cell_type": "code",
      "source": [
        "from google.colab import files\n",
        "uploaded = files.upload()"
      ],
      "metadata": {
        "colab": {
          "base_uri": "https://localhost:8080/",
          "height": 73
        },
        "id": "wIGuDjNy4fll",
        "outputId": "78c13533-610c-4d60-f883-366834d11eb7"
      },
      "execution_count": 4,
      "outputs": [
        {
          "output_type": "display_data",
          "data": {
            "text/plain": [
              "<IPython.core.display.HTML object>"
            ],
            "text/html": [
              "\n",
              "     <input type=\"file\" id=\"files-65ce224f-b207-4b15-9906-103a2fa9ef76\" name=\"files[]\" multiple disabled\n",
              "        style=\"border:none\" />\n",
              "     <output id=\"result-65ce224f-b207-4b15-9906-103a2fa9ef76\">\n",
              "      Upload widget is only available when the cell has been executed in the\n",
              "      current browser session. Please rerun this cell to enable.\n",
              "      </output>\n",
              "      <script>// Copyright 2017 Google LLC\n",
              "//\n",
              "// Licensed under the Apache License, Version 2.0 (the \"License\");\n",
              "// you may not use this file except in compliance with the License.\n",
              "// You may obtain a copy of the License at\n",
              "//\n",
              "//      http://www.apache.org/licenses/LICENSE-2.0\n",
              "//\n",
              "// Unless required by applicable law or agreed to in writing, software\n",
              "// distributed under the License is distributed on an \"AS IS\" BASIS,\n",
              "// WITHOUT WARRANTIES OR CONDITIONS OF ANY KIND, either express or implied.\n",
              "// See the License for the specific language governing permissions and\n",
              "// limitations under the License.\n",
              "\n",
              "/**\n",
              " * @fileoverview Helpers for google.colab Python module.\n",
              " */\n",
              "(function(scope) {\n",
              "function span(text, styleAttributes = {}) {\n",
              "  const element = document.createElement('span');\n",
              "  element.textContent = text;\n",
              "  for (const key of Object.keys(styleAttributes)) {\n",
              "    element.style[key] = styleAttributes[key];\n",
              "  }\n",
              "  return element;\n",
              "}\n",
              "\n",
              "// Max number of bytes which will be uploaded at a time.\n",
              "const MAX_PAYLOAD_SIZE = 100 * 1024;\n",
              "\n",
              "function _uploadFiles(inputId, outputId) {\n",
              "  const steps = uploadFilesStep(inputId, outputId);\n",
              "  const outputElement = document.getElementById(outputId);\n",
              "  // Cache steps on the outputElement to make it available for the next call\n",
              "  // to uploadFilesContinue from Python.\n",
              "  outputElement.steps = steps;\n",
              "\n",
              "  return _uploadFilesContinue(outputId);\n",
              "}\n",
              "\n",
              "// This is roughly an async generator (not supported in the browser yet),\n",
              "// where there are multiple asynchronous steps and the Python side is going\n",
              "// to poll for completion of each step.\n",
              "// This uses a Promise to block the python side on completion of each step,\n",
              "// then passes the result of the previous step as the input to the next step.\n",
              "function _uploadFilesContinue(outputId) {\n",
              "  const outputElement = document.getElementById(outputId);\n",
              "  const steps = outputElement.steps;\n",
              "\n",
              "  const next = steps.next(outputElement.lastPromiseValue);\n",
              "  return Promise.resolve(next.value.promise).then((value) => {\n",
              "    // Cache the last promise value to make it available to the next\n",
              "    // step of the generator.\n",
              "    outputElement.lastPromiseValue = value;\n",
              "    return next.value.response;\n",
              "  });\n",
              "}\n",
              "\n",
              "/**\n",
              " * Generator function which is called between each async step of the upload\n",
              " * process.\n",
              " * @param {string} inputId Element ID of the input file picker element.\n",
              " * @param {string} outputId Element ID of the output display.\n",
              " * @return {!Iterable<!Object>} Iterable of next steps.\n",
              " */\n",
              "function* uploadFilesStep(inputId, outputId) {\n",
              "  const inputElement = document.getElementById(inputId);\n",
              "  inputElement.disabled = false;\n",
              "\n",
              "  const outputElement = document.getElementById(outputId);\n",
              "  outputElement.innerHTML = '';\n",
              "\n",
              "  const pickedPromise = new Promise((resolve) => {\n",
              "    inputElement.addEventListener('change', (e) => {\n",
              "      resolve(e.target.files);\n",
              "    });\n",
              "  });\n",
              "\n",
              "  const cancel = document.createElement('button');\n",
              "  inputElement.parentElement.appendChild(cancel);\n",
              "  cancel.textContent = 'Cancel upload';\n",
              "  const cancelPromise = new Promise((resolve) => {\n",
              "    cancel.onclick = () => {\n",
              "      resolve(null);\n",
              "    };\n",
              "  });\n",
              "\n",
              "  // Wait for the user to pick the files.\n",
              "  const files = yield {\n",
              "    promise: Promise.race([pickedPromise, cancelPromise]),\n",
              "    response: {\n",
              "      action: 'starting',\n",
              "    }\n",
              "  };\n",
              "\n",
              "  cancel.remove();\n",
              "\n",
              "  // Disable the input element since further picks are not allowed.\n",
              "  inputElement.disabled = true;\n",
              "\n",
              "  if (!files) {\n",
              "    return {\n",
              "      response: {\n",
              "        action: 'complete',\n",
              "      }\n",
              "    };\n",
              "  }\n",
              "\n",
              "  for (const file of files) {\n",
              "    const li = document.createElement('li');\n",
              "    li.append(span(file.name, {fontWeight: 'bold'}));\n",
              "    li.append(span(\n",
              "        `(${file.type || 'n/a'}) - ${file.size} bytes, ` +\n",
              "        `last modified: ${\n",
              "            file.lastModifiedDate ? file.lastModifiedDate.toLocaleDateString() :\n",
              "                                    'n/a'} - `));\n",
              "    const percent = span('0% done');\n",
              "    li.appendChild(percent);\n",
              "\n",
              "    outputElement.appendChild(li);\n",
              "\n",
              "    const fileDataPromise = new Promise((resolve) => {\n",
              "      const reader = new FileReader();\n",
              "      reader.onload = (e) => {\n",
              "        resolve(e.target.result);\n",
              "      };\n",
              "      reader.readAsArrayBuffer(file);\n",
              "    });\n",
              "    // Wait for the data to be ready.\n",
              "    let fileData = yield {\n",
              "      promise: fileDataPromise,\n",
              "      response: {\n",
              "        action: 'continue',\n",
              "      }\n",
              "    };\n",
              "\n",
              "    // Use a chunked sending to avoid message size limits. See b/62115660.\n",
              "    let position = 0;\n",
              "    do {\n",
              "      const length = Math.min(fileData.byteLength - position, MAX_PAYLOAD_SIZE);\n",
              "      const chunk = new Uint8Array(fileData, position, length);\n",
              "      position += length;\n",
              "\n",
              "      const base64 = btoa(String.fromCharCode.apply(null, chunk));\n",
              "      yield {\n",
              "        response: {\n",
              "          action: 'append',\n",
              "          file: file.name,\n",
              "          data: base64,\n",
              "        },\n",
              "      };\n",
              "\n",
              "      let percentDone = fileData.byteLength === 0 ?\n",
              "          100 :\n",
              "          Math.round((position / fileData.byteLength) * 100);\n",
              "      percent.textContent = `${percentDone}% done`;\n",
              "\n",
              "    } while (position < fileData.byteLength);\n",
              "  }\n",
              "\n",
              "  // All done.\n",
              "  yield {\n",
              "    response: {\n",
              "      action: 'complete',\n",
              "    }\n",
              "  };\n",
              "}\n",
              "\n",
              "scope.google = scope.google || {};\n",
              "scope.google.colab = scope.google.colab || {};\n",
              "scope.google.colab._files = {\n",
              "  _uploadFiles,\n",
              "  _uploadFilesContinue,\n",
              "};\n",
              "})(self);\n",
              "</script> "
            ]
          },
          "metadata": {}
        },
        {
          "output_type": "stream",
          "name": "stdout",
          "text": [
            "Saving Dataset.zip to Dataset.zip\n"
          ]
        }
      ]
    },
    {
      "cell_type": "code",
      "source": [
        "!unzip Dataset.zip"
      ],
      "metadata": {
        "colab": {
          "base_uri": "https://localhost:8080/"
        },
        "id": "cbbWvL0f4l5R",
        "outputId": "5de184c1-6989-45c5-fd7a-bc9bb25d5bca"
      },
      "execution_count": 5,
      "outputs": [
        {
          "output_type": "stream",
          "name": "stdout",
          "text": [
            "Archive:  Dataset.zip\n",
            "   creating: Dataset/\n",
            " extracting: Dataset/cities1.csv     \n",
            "  inflating: Dataset/cities1_schema.csv  \n",
            " extracting: Dataset/cities2.csv     \n",
            "   creating: Dataset/exercise/\n",
            "  inflating: Dataset/exercise/AkunTwitter_POS.csv  \n",
            "  inflating: Dataset/exercise/HashtagTwitter_POS.csv  \n",
            "  inflating: Dataset/exercise/Instagram_POS.json  \n",
            "   creating: Dataset/json/\n",
            " extracting: Dataset/json/user1.json  \n",
            " extracting: Dataset/json/user2.json  \n",
            " extracting: Dataset/pcodes.csv      \n",
            "  inflating: Dataset/people-no-pcode.csv  \n",
            "  inflating: Dataset/purplecow.txt   \n",
            " extracting: Dataset/zcodes.csv      \n"
          ]
        }
      ]
    },
    {
      "cell_type": "markdown",
      "source": [
        "Initiate Spark"
      ],
      "metadata": {
        "id": "GbL_KorJ45K1"
      }
    },
    {
      "cell_type": "code",
      "source": [
        "spark = SparkSession \\\n",
        "    .builder \\\n",
        "    .master(\"local[*]\") \\\n",
        "    .appName(\"test\") \\\n",
        "    .getOrCreate()"
      ],
      "metadata": {
        "id": "rQKQlAlv479x"
      },
      "execution_count": 6,
      "outputs": []
    },
    {
      "cell_type": "code",
      "source": [
        "spark"
      ],
      "metadata": {
        "colab": {
          "base_uri": "https://localhost:8080/",
          "height": 219
        },
        "id": "nl-VcbRP48i0",
        "outputId": "1eb98952-b069-4527-9bbd-7c34b5d7b82e"
      },
      "execution_count": 7,
      "outputs": [
        {
          "output_type": "execute_result",
          "data": {
            "text/plain": [
              "<pyspark.sql.session.SparkSession at 0x7f6166e3b690>"
            ],
            "text/html": [
              "\n",
              "            <div>\n",
              "                <p><b>SparkSession - in-memory</b></p>\n",
              "                \n",
              "        <div>\n",
              "            <p><b>SparkContext</b></p>\n",
              "\n",
              "            <p><a href=\"http://8844de03c374:4040\">Spark UI</a></p>\n",
              "\n",
              "            <dl>\n",
              "              <dt>Version</dt>\n",
              "                <dd><code>v3.3.1</code></dd>\n",
              "              <dt>Master</dt>\n",
              "                <dd><code>local[*]</code></dd>\n",
              "              <dt>AppName</dt>\n",
              "                <dd><code>test</code></dd>\n",
              "            </dl>\n",
              "        </div>\n",
              "        \n",
              "            </div>\n",
              "        "
            ]
          },
          "metadata": {},
          "execution_count": 7
        }
      ]
    },
    {
      "cell_type": "markdown",
      "source": [
        "Load Dataframe"
      ],
      "metadata": {
        "id": "kiN_XR3L5gVq"
      }
    },
    {
      "cell_type": "code",
      "source": [
        "# dataframe akun twitter\n",
        "DFakun= spark.read. \\\n",
        "  format(\"csv\"). \\\n",
        "  option(\"inferSchema\",\"true\"). \\\n",
        "  option(\"header\",\"true\"). \\\n",
        "  load(\"Dataset/exercise/AkunTwitter_POS.csv\")"
      ],
      "metadata": {
        "id": "-n6oq_YB56KM"
      },
      "execution_count": 8,
      "outputs": []
    },
    {
      "cell_type": "code",
      "source": [
        "# dataframe hashtag twitter\n",
        "DFtag= spark.read. \\\n",
        "  format(\"csv\"). \\\n",
        "  option(\"inferSchema\",\"true\"). \\\n",
        "  option(\"header\",\"true\"). \\\n",
        "  load(\"Dataset/exercise/HashtagTwitter_POS.csv\")"
      ],
      "metadata": {
        "id": "aZHaL6fM617V"
      },
      "execution_count": 9,
      "outputs": []
    },
    {
      "cell_type": "code",
      "source": [
        "# dataframe instagram\n",
        "DFinsta= spark.read.format(\"json\").load(\"Dataset/exercise/Instagram_POS.json\")"
      ],
      "metadata": {
        "id": "jxMrLXh-6_ZZ"
      },
      "execution_count": 10,
      "outputs": []
    },
    {
      "cell_type": "markdown",
      "source": [
        "Filter Dataframe"
      ],
      "metadata": {
        "id": "jp8RD171G2hl"
      }
    },
    {
      "cell_type": "code",
      "source": [
        "# filter dataframe akun\n",
        "DFakunfilter= DFakun.select('username', col('tweet').alias('content')).where(col('username')!='posindonesia')\n",
        "DFakunfilter= DFakunfilter.withColumn('source', lit('twitter'))\n",
        "DFakunfilter.na.drop('any')\n",
        "DFakunfilter.distinct()\n",
        "DFakunfilter.show(truncate=False)"
      ],
      "metadata": {
        "colab": {
          "base_uri": "https://localhost:8080/"
        },
        "id": "TbIrGOtPwWn8",
        "outputId": "1e2fdae5-1377-4972-8225-2b3101c35f9a"
      },
      "execution_count": 165,
      "outputs": [
        {
          "output_type": "stream",
          "name": "stdout",
          "text": [
            "+------------+-----------------------------------------------------------------------------------------------------------------------------------------------------------------------------------------------------------------------------------------------------------------------------------------------------------------+-------+\n",
            "|username    |content                                                                                                                                                                                                                                                                                                          |source |\n",
            "+------------+-----------------------------------------------------------------------------------------------------------------------------------------------------------------------------------------------------------------------------------------------------------------------------------------------------------------+-------+\n",
            "|kabarinegeri|Dengan POSGIRO MOBILE Pelanggan Kantorpos tidak perlu dating langsung, antri di Loket. Cukup menggunakan handphonenya bisa melakukan apa saja, bayar-bayar, kirim uang hingga mengelola dananya di Rekening Giropos untuk transaksi. #POSinaja                                                                   |twitter|\n",
            "|kabarinegeri|Dengan adanya Layanan POSGIRO MOBILE diharapkan dapat melengkapi jaringan dan titik layanan (Point of Sales) PT Pos Indonesia yang sudah tersedia sebelumnya sekitar 58.700 titik dalam bentuk Kantorpos, Agenpos, Mobile Postal Service, dan lain-lain di seluruh Indonesia. #POSinaja                          |twitter|\n",
            "|kabarinegeri|Hadirnya POSGIRO MOBILE sangat memberikan kemudahan dalam berbagai transaksi. Pelanggan Kantor pos, lanjutnya, diberikan kemudahan dan fasilitas layanan keuangan secara ‘mobile’ yang dapat diakses kapan saja dan dimana saja seperti: #POSinaja                                                               |twitter|\n",
            "|kabarinegeri|Layanan Giropos, merupakan salah satu layanan keuangan legacy selain Weselpos yang dimiliki oleh PT Pos Indonesia (Persero). #POSinaja pic.twitter.com/V02wkSqJG6                                                                                                                                                |twitter|\n",
            "|kabarinegeri|Perubahan inilah yang yang ditangkap oleh Pos Indonesia yang mungkin sebagian besar masyarakat Indonesia masih menganggap beberapa produk Pos Indonesia “out of date” karena tidak lagi relevan dengan perkembangan zaman. #POSinaja pic.twitter.com/wb1uMG0QtZ                                                  |twitter|\n",
            "|kabarinegeri|Paradigma tersebut pun mampu merubah gaya hidup masyarakat menjadi digital dan menjadikan segalanya menjadi serba mungkin. Bahkan esok pun bisa menjadi hari ini! #POSinaja                                                                                                                                      |twitter|\n",
            "|kabarinegeri|Dengan kata lain, perubahan paradigma bisnis dari pola konvensional menjadi pola digital yang bertumpu pada teknologi menjadi driver pertumbuhan bagi mereka para pelaku bisnis saat ini. #POSinaja                                                                                                              |twitter|\n",
            "|kabarinegeri|Disrupsi tersebut hadir karena adanya kebiasaan-kebiasaan yang dianggap tidak efisien (inefisiensi). Ketidakefisienan tersebut menghilang dengan hadirnya teknologi digital, yang pada akhirnya menjadi faktor utama perubahan bisnis saat ini. #POSinaja pic.twitter.com/OvPepYLTGj                             |twitter|\n",
            "|kabarinegeri|Bagi @PosIndonesia disrupsi merupakan masa depan yang harus diraih, karena saat ini yang tengah dilakukan Pos Indonesia adalah merombak seluruh dapur bisnisnya dengan merelevankan seluruh aspek-aspek strategis terhadap apa-apa saja yang menjadi kebutuhan masyarakat #POSinaja                              |twitter|\n",
            "|kabarinegeri|Ekonomi digital akan terus semakin berkembang ke depan seiring perkembangan teknologi. Era teknologi digital menghadirkan disrupsi pada seluruh sektor bisnis. #POSinaja pic.twitter.com/MO8nx7wwTw                                                                                                              |twitter|\n",
            "|kabarinegeri|Tidak berhenti disitu, POSGIRO MOBILE diproyeksikan akan terus berkembang dan terintegrasi dengan seluruh layanan produk strategis Pos Indonesia lainnya. #POSinaja                                                                                                                                              |twitter|\n",
            "|kabarinegeri|Perlahan tapi pasti Pos Indonesia kini mulai menata arah kebijakan bisnisnya dengan merelevankan seluruh produk-produk strategisnya dengan layanan digital, salah satunya inovasi POSGIRO MOBILE yang merupakan jawaban atas potret bisnis perseroan. #POSinaja pic.twitter.com/Fo90Tlvxk0                       |twitter|\n",
            "|kabarinegeri|Berbagai tantangan terus dihadapi PT Pos Indonesia (Persero) khususnya dalam memposisikan bisnisnya di era digital. . #POSinaja                                                                                                                                                                                  |twitter|\n",
            "|kabarinegeri|Hidup selama lebih dari dua setengah abad, PT POS Indonesia masuk masa keemasan pad aera 1970 hingga 1980-an. #POSinaja pic.twitter.com/RNX1kWUib5                                                                                                                                                               |twitter|\n",
            "|kabarinegeri|Senyum kebahagiaan mereka senyum kita semua. Pos Indonesia #KabariNegeri. Kirimkan bukumu ke semua taman bacaan di Indonesia. Bawa bukumu ke kantor pos. GRATIS TIS TIS. @PartaiSocmed pic.twitter.com/3jhouEG440                                                                                                |twitter|\n",
            "|kabarinegeri|Program kirim buku gratis di kantor pos membantu literasi terhadap membaca. Yuk kirimkan buku kamu di kantor pos. Jangan lupa. Inga inga tanggal 17 nanti #KabariNegeri pic.twitter.com/1nG7DgaZ0X                                                                                                               |twitter|\n",
            "|kabarinegeri|H-4 kirim buku gratis. Ojo lali koncoku kabeh. Tanggal 17 nanti ada program kirim buku gratis untuk semua taman bacaan di seluruh Indonesia. #KabariNegeri pic.twitter.com/jhcpiuW8dY                                                                                                                            |twitter|\n",
            "|kabarinegeri|Bagaimana dengan sumber daya manusia yang dikelola oleh @PosIndonesia. Dengan sdm yang berkualitas dan banyak, Pos Indonesia layaknya giant di antara negara negara lain. Jokowi mengelola BUMN dengan baik untuk kebaikan masyarakat Indonesia #KabariNegeri @maizputra @Irenecutemom pic.twitter.com/5oeKllf15U|twitter|\n",
            "|kabarinegeri|Pos Indonesia sebagai BUMN melayani area pelayanan seluas 1.904.569 km2. Dibandingkan dengan negara lain. Luas area yang dicover oleh @PosIndonesia sangat luas. Namun pelayanan tetap prima #KabariNegeri @nengherba @ILoSanre pic.twitter.com/oPEAi9jf6d                                                       |twitter|\n",
            "|kabarinegeri|Kenapa bisa begitu. Bayangkan populasi yang dilayani oleh jasa kurir di setiap negara. Untuk Indonesia sendiri @PosIndonesia melayani kurang lebih  225 juta jiwa. Wow... #KabariNegeri @EllaZefa pic.twitter.com/tdZgV2Lu1K                                                                                     |twitter|\n",
            "+------------+-----------------------------------------------------------------------------------------------------------------------------------------------------------------------------------------------------------------------------------------------------------------------------------------------------------------+-------+\n",
            "only showing top 20 rows\n",
            "\n"
          ]
        }
      ]
    },
    {
      "cell_type": "code",
      "source": [
        "# filter dataframe hashtag\n",
        "DFtagfilter= DFtag.select('username', col('tweet').alias('content')).where(col('hashtags').like('%posindonesia%') & ~col('username').like('%pos%'))\n",
        "DFtagfilter= DFtagfilter.withColumn('source', lit('twitter'))\n",
        "DFtagfilter.na.drop('any')\n",
        "DFtagfilter.distinct()\n",
        "DFtagfilter.show(truncate=False)"
      ],
      "metadata": {
        "colab": {
          "base_uri": "https://localhost:8080/"
        },
        "id": "7ka31eHSFw-M",
        "outputId": "0e9b1258-e281-4cc9-8eb2-f1d9cad70aee"
      },
      "execution_count": 157,
      "outputs": [
        {
          "output_type": "stream",
          "name": "stdout",
          "text": [
            "+---------------+-------------------------------------------------------------------------------------------------------------------------------------------------------------------------------------------------------------------------------------------------------------------------------------------------------------------------------------------------------------------------------------------------------------------------------------------+-------+\n",
            "|username       |content                                                                                                                                                                                                                                                                                                                                                                                                                                    |source |\n",
            "+---------------+-------------------------------------------------------------------------------------------------------------------------------------------------------------------------------------------------------------------------------------------------------------------------------------------------------------------------------------------------------------------------------------------------------------------------------------------+-------+\n",
            "|detikcom       |Resi Pos merupakan nomor bukti pengiriman logistik yang dilakukan oleh PT Pos Indonesia. Ada cara mudah mengecek resi PT Pos Indonesia. Bagaimana caranya? Yuk simak! #PosIndonesia #cekresi   via @detikfinance https://finance.detik.com/ekonomi-bisnis/d-4621938/cara-cek-resi-pt-pos-indonesia-dengan-mudah?utm_content=detikfinance&utm_term=echobox&utm_medium=oa&utm_campaign=detikcomsocmed&utm_source=Twitter#Echobox=1562938526 …|twitter|\n",
            "|k59300         |#Repost posindonesia.ig • • • • • • Kiriman lewat Pos Indonesia selalu terlacak dan dilengkapi dokumen pendukung untuk membuktikan setiap tahapan pengiriman.  #POSinaja #lacak #tracking #POSindonesia…  https://www.instagram.com/p/Bzwnl-jJohu/?igshid=19mg5igwf0owh …                                                                                                                                                                  |twitter|\n",
            "|amantepatwaktu |Kenali Pos sedari dini. Dulu mimin juga gitu. Saat TK diajak keliling kantorpos. Kalo sekarang gimana ya? @PosIndonesia #POSIndonesia #paket #pakpos #posinaja pic.twitter.com/KMbfd96gP0                                                                                                                                                                                                                                                  |twitter|\n",
            "|k59300         |#Repost posindonesia.ig • • • • • • Hati-hati dalam membeli meterai, jangan sampai membeli yang palsu, harus yang asli ya. Seperti cintamu pada dia. Harus asli ga boleh palsu.  #Meterai #POSIndonesia #POSinaja…  https://www.instagram.com/p/Bzr1kkQJq_S/?igshid=1es1lq76y2izb …                                                                                                                                                        |twitter|\n",
            "|tokondutz      |Sale cd audio  #sale #audiocd #seken #idr #Rp50000 #cdoriginal #koleksipribadi #thegroove album #thebestof  Kondisi memuaskan  Minat?   #smswa0818992976   Kirim2 via #jne #tiki #posindonesia #gosend #ongkir…  https://www.instagram.com/p/BzrnC6Apte2/?igshid=4zff9hptqq5c …                                                                                                                                                            |twitter|\n",
            "|tokondutz      |Sale cd audio  #sale #audiocd #seken #idr #Rp50000 #cdoriginal #koleksipribadi #chrisye album #untukmu  Kondisi memuaskan  Minat?   #smswa0818992976   Kirim2 via #jne #tiki #posindonesia #gosend #ongkir ditanggung…  https://www.instagram.com/p/BzrceMBpqIk/?igshid=5xpakx5moi0w …                                                                                                                                                     |twitter|\n",
            "|aboben_variasi |Kita ga cuma melayani di toko fisik atau Offline aja tapi kita juga layani di toko digital atau Online lo... Pengiriman Lokal (Gojek/Grab) dan Nasional (JNT, Tiki, POS) juga kita layani 😁🙏 #gojek #grab #jnt #tiki #posindonesia #onlineshop #onlinestore pic.twitter.com/iUSclcpiNj                                                                                                                                                   |twitter|\n",
            "|therapistsby   |Ready stock #dildo #dildo's ( penis mainan untuk orang dewasa bisa #cod di kota surabaya area .  Untuk luar kota bisa kirim pakai #jne #tiki #posindonesia #jnt dll  Wa: 081230088117 @CumaAdam @SurabayaGay @gay_boybali @GayChineseID @kelaminpria @kokosurabayapop @Pijatsurabay4 pic.twitter.com/397INuNi1S                                                                                                                            |twitter|\n",
            "|hardy49jr      |Riding lagi.. ngumpul lagi.. jalan2 lagi biar muka gak pucet . Sampai ketemu lagi di event IMPI selanjutnya Salam tanpa sekat tanpa batas #impi #posindonesia #ikatanmotosposindonesia #korwil6 #jatengdiy…  https://www.instagram.com/p/BzXRoU3F2Ld/?igshid=u2defdzcsaca …                                                                                                                                                                |twitter|\n",
            "|hanayuniartii11|At-- #PosIndonesia #Keraton #beringinKembar #Malioboro biar gak ilang yaqq🙆🤪😃                                                                                                                                                                                                                                                                                                                                                           |twitter|\n",
            "|agityagit      |IKATAN MOTOR POS INDONESIA  jaman dimana masih pikiran masih enteng entengnya 🤣😂 • 2011 • . . . . #latepost #acoupleyearsago #beberapatahunlalu #posindonesia #kantorpos…  https://www.instagram.com/p/BzLl4l4AITR/?igshid=10bx1djym1k19 …                                                                                                                                                                                               |twitter|\n",
            "|k59300         |Acara Reward Q1 Tahun 2019 O-Ranger PT Pos Indonesia, ayo bergabung bersama kami,,info pick up kiriman Kantor Pos Kudus 59300 08112859300 posindonesia.ig @posjatengdiy #POSindonesia #ppbumn #kantorpos…  https://www.instagram.com/p/BzK76LRpwWh/?igshid=yfhmiutdqrtm …                                                                                                                                                                  |twitter|\n",
            "|kosasihsony    |@PosIndonesia still the best award goes to #posindonesia. It said 2 - 4 days, but this is until today, my package is still somewhere in the sumatran jungle ON ITS WAY to Jambi, not even to my town yet. And yet, all that #posindonesia can say is 'mohon ditunggu'.  pic.twitter.com/9VEwYTqolA                                                                                                                                         |twitter|\n",
            "|amantepatwaktu |Cinta adalah jenis amnesia saat seorang cewek lupa kalau ada 1,2 miliar cowok lain di dunia ini.  #POSIndonesia #instagood #instadaily #paket #dekat #bumnhadiruntuknegeri #pakpos #kantorpos #AgenPos #olshop #onlineshop #belanja #POSinaja #ORANGERinaja pic.twitter.com/Fi6ktP34Ry                                                                                                                                                     |twitter|\n",
            "|k59300         |#Repost posindonesia.ig • • • • • • Selamat merayakan hari lahir Pak @Jokowi Semoga terus dilimpahi dan membawa keberkahan.  #POSIndonesia #KabariNegeri #AmanTepatWaktu #AgenPos #BUMNhadiruntuknegeri #kurir…  https://www.instagram.com/p/By92E3opHk9/?igshid=rgwey6cmn9g1 …                                                                                                                                                            |twitter|\n",
            "|ruritandiansyah|Sehingga lanjut besok ya. Mamang mohon maaf banget terutama dari orderan yang jadi telat H+1 🙏   Mohon dimaafkan sebesar2nya . #packing #jntexpress #jne #posindonesia @ Bandung  https://www.instagram.com/p/By78XvTgGhL/?igshid=1fe6mglvemk30 …                                                                                                                                                                                         |twitter|\n",
            "|penembaklove   |Ramadhan sebentar lagi. Jangan lupa menunaikan zakat. Bayar zakat, kirim uang, byar ini itu, posin aja.  #POSinaja #POSIndonesia  pic.twitter.com/vbNcc9jrsZ                                                                                                                                                                                                                                                                               |twitter|\n",
            "|gembulzs       |Ini cuma genangan, bukan kenangan. Kiriman harus tetap sampai.   #POSIndonesia #POSinaja #KabariNegeri pic.twitter.com/jCx4I6Cz2A                                                                                                                                                                                                                                                                                                          |twitter|\n",
            "|gembulzs       |Pos Indonesia selalu berinovasi untuk meningkatkan kepuasan pelanggan. Salah satunya adalah pemanfaatan teknologi informatika untuk pengelolaan data kiriman.  #POSIndonesia #POSinaja #KabariNegeri pic.twitter.com/mnG0WUITMJ                                                                                                                                                                                                            |twitter|\n",
            "|jpnncom        |PT Pos Indonesia (Persero) area Balikpapan, Kalimantan Timur, berhasil membukukan pertumbuhan pendapatan di lima bulan pertama 2019. #PosIndonesia  http://m.jpnn.com/amp/news/strategi-pos-indonesia-genjot-pendapatan …                                                                                                                                                                                                                  |twitter|\n",
            "+---------------+-------------------------------------------------------------------------------------------------------------------------------------------------------------------------------------------------------------------------------------------------------------------------------------------------------------------------------------------------------------------------------------------------------------------------------------------+-------+\n",
            "only showing top 20 rows\n",
            "\n"
          ]
        }
      ]
    },
    {
      "cell_type": "code",
      "metadata": {
        "id": "38aQucMhW-Df"
      },
      "source": [
        "# fungsi untuk memisahkan struct menjadi array\n",
        "def FlatDF(schema, prefix=None):\n",
        "        fields = []\n",
        "        for field in schema.fields:\n",
        "            name = prefix + '.' + field.name if prefix else field.name\n",
        "            dtype = field.dataType\n",
        "            if isinstance(dtype, ArrayType):\n",
        "                dtype = dtype.elementType\n",
        "\n",
        "            if isinstance(dtype, StructType):\n",
        "                fields += FlatDF(dtype, prefix=name)\n",
        "            else:\n",
        "                fields.append(name)\n",
        "\n",
        "        return fields"
      ],
      "execution_count": 73,
      "outputs": []
    },
    {
      "cell_type": "code",
      "source": [
        "# flaten dataframe instagram\n",
        "DFinstaflat= DFinsta.select(FlatDF(DFinsta.schema))"
      ],
      "metadata": {
        "id": "spH5yTT9WF18"
      },
      "execution_count": 116,
      "outputs": []
    },
    {
      "cell_type": "code",
      "source": [
        "# filter dataframe instagram\n",
        "DFinstafilter= DFinstaflat.select(col('author')[1].alias('username'), col('comment')[1].alias('content')).where(col('author')[1]!='posindonesia.ig')\n",
        "DFinstafilter= DFinstafilter.withColumn('source', lit('instagram'))\n",
        "DFinstafilter.na.drop('any')\n",
        "DFinstafilter.distinct()\n",
        "DFinstafilter.show(truncate=False)"
      ],
      "metadata": {
        "colab": {
          "base_uri": "https://localhost:8080/"
        },
        "id": "Lt3OPCTmXfjF",
        "outputId": "ca407932-67fb-4371-9a39-f744fbb9f6eb"
      },
      "execution_count": 159,
      "outputs": [
        {
          "output_type": "stream",
          "name": "stdout",
          "text": [
            "+-------------------+-------------------------------------------------------------------------------------------------------------------------------------------------------------------------------------------------+---------+\n",
            "|username           |content                                                                                                                                                                                          |source   |\n",
            "+-------------------+-------------------------------------------------------------------------------------------------------------------------------------------------------------------------------------------------+---------+\n",
            "|griyakulakannganjuk|Kirim paket belum di terima tapi sudah bilang di tolak alasan rusak. Itu gimama yaa kak. Di terima aja belum tapi sudah bilang rusak.                                                            |instagram|\n",
            "|ojombokfolou       |SANGAT KECEWA. saya kirim barang dr Jakarta ke Makassar dng kilat khusus, tanpa konfirmasi barang dikirimkan via laut, barang belum sampai dan saat ini masih terombang ambing di lautan.        |instagram|\n",
            "|jovian_aryodhito   |@mamah.asyraf trsckingnya jalan saat barang sudah sampai bu.. Saya kemarin ngirim barang dua juga bgitu.. Pas sampai di tujuan baru bisa d tracking.. Apa emang seperti itu min? @posindonesia.ig|instagram|\n",
            "|leylyeyle          |@posindonesia.ig 15602499304                                                                                                                                                                     |instagram|\n",
            "|irenerufianti      |Min.. kirim parcel EMS ke Romania/Rumania bisa? di website tidak ada di list nya.                                                                                                                |instagram|\n",
            "|xxyn99             |@syamsul_manalu23 sudah nyampe barangnya?                                                                                                                                                        |instagram|\n",
            "|nyomandante        |Semoga mendapat tempat mulia di sisiNya                                                                                                                                                          |instagram|\n",
            "|intanardianty_     |Tingkatkan pelayananmu ! bukan jualan ! fokuskan untuk pelayanan ! dan barang harus di antar sesuai waktu estimasi ! bukan malah di diemin !                                                     |instagram|\n",
            "|nana_munzir        |Ka. Kenapa ya paket saya dgn no resi 29413C2SF016114 sudah seminggu lebih belum juga sampek. Dicek diresi tidak jalan\". Batam ke aceh. Mohon konfirmasinya                                       |instagram|\n",
            "|rachmatjamaluddin  |Wesel Pos itu mengingatkan ku pas dipesantren dulu, masuk akhir bulan selalu nungguin pak Pos depan gerbang 😁😁😁                                                                               |instagram|\n",
            "|devan_ambar09      |@dina.septi hy kaka bsa lewat wa kaka utk menanyakan tarif dan bsa djemput paket ny ka ka                                                                                                        |instagram|\n",
            "|riowidodo__        |@posindonesia.ig Deny widodo (+62) 81353952700 Foto copy abadi jl. Pemuda tulamalae atambua barat, KAB. BELU, ATAMBUA BARAT, NUSA TENGGARA TIMUR (NTT), ID, 85715                                |instagram|\n",
            "|djunaedy.tay       |@posindonesia.ig infonya gmn ya?                                                                                                                                                                 |instagram|\n",
            "|suhen88            |Materai 50 lembar brapa harganya min                                                                                                                                                             |instagram|\n",
            "|barayaliterasi     |@posindonesia.ig baik saya konsultasi ke kantor pos pusarlt jazakallah                                                                                                                           |instagram|\n",
            "|pm_lala            |😂QQ&A                                                                                                                                                                                           |instagram|\n",
            "|r.imam_1125        |minta tolong cek resi min.. 17285528766 sudah dua bulan belum nyampek juga ni. padahal pakai paket kilat khusus ke sorong                                                                        |instagram|\n",
            "|abaangdavid        |Min, kenalin atuh modelnya min 😍😍                                                                                                                                                              |instagram|\n",
            "|ikkamay            |Rekrutmen seluruh indonesia jadwalnya kapan ya min? @posindonesia.ig                                                                                                                             |instagram|\n",
            "|evand_zikrullah    |Mengecewakan sangat!                                                                                                                                                                             |instagram|\n",
            "+-------------------+-------------------------------------------------------------------------------------------------------------------------------------------------------------------------------------------------+---------+\n",
            "only showing top 20 rows\n",
            "\n"
          ]
        }
      ]
    },
    {
      "cell_type": "markdown",
      "source": [
        "Union Dataframe"
      ],
      "metadata": {
        "id": "ZtReuuI61_6f"
      }
    },
    {
      "cell_type": "code",
      "source": [
        "# gabung dataframe yang telah difilter\n",
        "DFkonten= DFtagfilter.union(DFakunfilter).union(DFinstafilter)\n",
        "DFkonten.show()"
      ],
      "metadata": {
        "colab": {
          "base_uri": "https://localhost:8080/"
        },
        "id": "-VbtcqrNhWXF",
        "outputId": "e64e8ed7-d28d-40a4-9c01-4d0b8c7685ee"
      },
      "execution_count": 167,
      "outputs": [
        {
          "output_type": "stream",
          "name": "stdout",
          "text": [
            "+---------------+--------------------+-------+\n",
            "|       username|             content| source|\n",
            "+---------------+--------------------+-------+\n",
            "|       detikcom|Resi Pos merupaka...|twitter|\n",
            "|         k59300|#Repost posindone...|twitter|\n",
            "| amantepatwaktu|Kenali Pos sedari...|twitter|\n",
            "|         k59300|#Repost posindone...|twitter|\n",
            "|      tokondutz|Sale cd audio  #s...|twitter|\n",
            "|      tokondutz|Sale cd audio  #s...|twitter|\n",
            "| aboben_variasi|Kita ga cuma mela...|twitter|\n",
            "|   therapistsby|Ready stock #dild...|twitter|\n",
            "|      hardy49jr|Riding lagi.. ngu...|twitter|\n",
            "|hanayuniartii11|At-- #PosIndonesi...|twitter|\n",
            "|      agityagit|IKATAN MOTOR POS ...|twitter|\n",
            "|         k59300|Acara Reward Q1 T...|twitter|\n",
            "|    kosasihsony|@PosIndonesia sti...|twitter|\n",
            "| amantepatwaktu|Cinta adalah jeni...|twitter|\n",
            "|         k59300|#Repost posindone...|twitter|\n",
            "|ruritandiansyah|Sehingga lanjut b...|twitter|\n",
            "|   penembaklove|Ramadhan sebentar...|twitter|\n",
            "|       gembulzs|Ini cuma genangan...|twitter|\n",
            "|       gembulzs|Pos Indonesia sel...|twitter|\n",
            "|        jpnncom|PT Pos Indonesia ...|twitter|\n",
            "+---------------+--------------------+-------+\n",
            "only showing top 20 rows\n",
            "\n"
          ]
        }
      ]
    }
  ]
}